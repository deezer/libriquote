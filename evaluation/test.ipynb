{
 "cells": [
  {
   "cell_type": "code",
   "execution_count": 5,
   "id": "6d10e8fb",
   "metadata": {},
   "outputs": [],
   "source": [
    "with open('libriquote.lst') as f : \n",
    "    x = f.readlines()\n"
   ]
  },
  {
   "cell_type": "code",
   "execution_count": 7,
   "id": "932dc06a",
   "metadata": {},
   "outputs": [
    {
     "name": "stdout",
     "output_type": "stream",
     "text": [
      "zsh:1: command not found: python\n"
     ]
    }
   ],
   "source": [
    "!python\n"
   ]
  },
  {
   "cell_type": "code",
   "execution_count": 4,
   "id": "b66c8efa",
   "metadata": {},
   "outputs": [
    {
     "data": {
      "text/plain": [
       "'Solo.2199.4446.fivelittlepeppers_06_sidney_64kb_157|dummy|/data/LibriNovel/test_audios/Solo.2199.4446.fivelittlepeppers_06_sidney_64kb_157.flac|“And I thank the Lord!\\n'"
      ]
     },
     "execution_count": 4,
     "metadata": {},
     "output_type": "execute_result"
    }
   ],
   "source": [
    "x[-1]\n",
    "\n"
   ]
  },
  {
   "cell_type": "code",
   "execution_count": null,
   "id": "fd0140c5",
   "metadata": {},
   "outputs": [],
   "source": []
  }
 ],
 "metadata": {
  "kernelspec": {
   "display_name": "Python 3",
   "language": "python",
   "name": "python3"
  },
  "language_info": {
   "codemirror_mode": {
    "name": "ipython",
    "version": 3
   },
   "file_extension": ".py",
   "mimetype": "text/x-python",
   "name": "python",
   "nbconvert_exporter": "python",
   "pygments_lexer": "ipython3",
   "version": "3.9.6"
  }
 },
 "nbformat": 4,
 "nbformat_minor": 5
}
